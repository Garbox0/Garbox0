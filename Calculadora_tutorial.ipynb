{
  "nbformat": 4,
  "nbformat_minor": 0,
  "metadata": {
    "colab": {
      "name": "Untitled0.ipynb",
      "provenance": [],
      "authorship_tag": "ABX9TyP+tbCRaZTZSrw4BqoQ4z0U",
      "include_colab_link": true
    },
    "kernelspec": {
      "name": "python3",
      "display_name": "Python 3"
    },
    "language_info": {
      "name": "python"
    }
  },
  "cells": [
    {
      "cell_type": "markdown",
      "metadata": {
        "id": "view-in-github",
        "colab_type": "text"
      },
      "source": [
        "<a href=\"https://colab.research.google.com/github/Garbox0/Garbox0/blob/main/Calculadora_tutorial.ipynb\" target=\"_parent\"><img src=\"https://colab.research.google.com/assets/colab-badge.svg\" alt=\"Open In Colab\"/></a>"
      ]
    },
    {
      "cell_type": "code",
      "execution_count": 4,
      "metadata": {
        "colab": {
          "base_uri": "https://localhost:8080/",
          "height": 356
        },
        "id": "fWJywafJ0EI_",
        "outputId": "714c1a8d-75c2-49cf-8fb3-b0428d6b1bf5"
      },
      "outputs": [
        {
          "output_type": "error",
          "ename": "TclError",
          "evalue": "ignored",
          "traceback": [
            "\u001b[0;31m---------------------------------------------------------------------------\u001b[0m",
            "\u001b[0;31mTclError\u001b[0m                                  Traceback (most recent call last)",
            "\u001b[0;32m<ipython-input-4-5c6f895d84f8>\u001b[0m in \u001b[0;36m<module>\u001b[0;34m()\u001b[0m\n\u001b[1;32m      1\u001b[0m \u001b[0;32mfrom\u001b[0m \u001b[0mtkinter\u001b[0m \u001b[0;32mimport\u001b[0m \u001b[0;34m*\u001b[0m\u001b[0;34m\u001b[0m\u001b[0;34m\u001b[0m\u001b[0m\n\u001b[1;32m      2\u001b[0m \u001b[0;34m\u001b[0m\u001b[0m\n\u001b[0;32m----> 3\u001b[0;31m \u001b[0mventana\u001b[0m \u001b[0;34m=\u001b[0m \u001b[0mTk\u001b[0m\u001b[0;34m(\u001b[0m\u001b[0;34m)\u001b[0m\u001b[0;34m\u001b[0m\u001b[0;34m\u001b[0m\u001b[0m\n\u001b[0m\u001b[1;32m      4\u001b[0m \u001b[0mventana\u001b[0m\u001b[0;34m.\u001b[0m\u001b[0mtitle\u001b[0m\u001b[0;34m(\u001b[0m\u001b[0;34m\"Caluladora\"\u001b[0m\u001b[0;34m)\u001b[0m\u001b[0;34m\u001b[0m\u001b[0;34m\u001b[0m\u001b[0m\n\u001b[1;32m      5\u001b[0m \u001b[0;34m\u001b[0m\u001b[0m\n",
            "\u001b[0;32m/usr/lib/python3.7/tkinter/__init__.py\u001b[0m in \u001b[0;36m__init__\u001b[0;34m(self, screenName, baseName, className, useTk, sync, use)\u001b[0m\n\u001b[1;32m   2021\u001b[0m                 \u001b[0mbaseName\u001b[0m \u001b[0;34m=\u001b[0m \u001b[0mbaseName\u001b[0m \u001b[0;34m+\u001b[0m \u001b[0mext\u001b[0m\u001b[0;34m\u001b[0m\u001b[0;34m\u001b[0m\u001b[0m\n\u001b[1;32m   2022\u001b[0m         \u001b[0minteractive\u001b[0m \u001b[0;34m=\u001b[0m \u001b[0;36m0\u001b[0m\u001b[0;34m\u001b[0m\u001b[0;34m\u001b[0m\u001b[0m\n\u001b[0;32m-> 2023\u001b[0;31m         \u001b[0mself\u001b[0m\u001b[0;34m.\u001b[0m\u001b[0mtk\u001b[0m \u001b[0;34m=\u001b[0m \u001b[0m_tkinter\u001b[0m\u001b[0;34m.\u001b[0m\u001b[0mcreate\u001b[0m\u001b[0;34m(\u001b[0m\u001b[0mscreenName\u001b[0m\u001b[0;34m,\u001b[0m \u001b[0mbaseName\u001b[0m\u001b[0;34m,\u001b[0m \u001b[0mclassName\u001b[0m\u001b[0;34m,\u001b[0m \u001b[0minteractive\u001b[0m\u001b[0;34m,\u001b[0m \u001b[0mwantobjects\u001b[0m\u001b[0;34m,\u001b[0m \u001b[0museTk\u001b[0m\u001b[0;34m,\u001b[0m \u001b[0msync\u001b[0m\u001b[0;34m,\u001b[0m \u001b[0muse\u001b[0m\u001b[0;34m)\u001b[0m\u001b[0;34m\u001b[0m\u001b[0;34m\u001b[0m\u001b[0m\n\u001b[0m\u001b[1;32m   2024\u001b[0m         \u001b[0;32mif\u001b[0m \u001b[0museTk\u001b[0m\u001b[0;34m:\u001b[0m\u001b[0;34m\u001b[0m\u001b[0;34m\u001b[0m\u001b[0m\n\u001b[1;32m   2025\u001b[0m             \u001b[0mself\u001b[0m\u001b[0;34m.\u001b[0m\u001b[0m_loadtk\u001b[0m\u001b[0;34m(\u001b[0m\u001b[0;34m)\u001b[0m\u001b[0;34m\u001b[0m\u001b[0;34m\u001b[0m\u001b[0m\n",
            "\u001b[0;31mTclError\u001b[0m: no display name and no $DISPLAY environment variable"
          ]
        }
      ],
      "source": [
        "from tkinter import *\n",
        "\n",
        "ventana = Tk()\n",
        "ventana.title(\"Caluladora\")\n",
        "\n",
        "i = 0\n",
        "\n",
        "# Entrada\n",
        "entrada_de_texto = Entry(ventana, font=\"Calibri 20\")\n",
        "entrada_de_texto.grid(row=0, column=0, columnspan=4, padx=5, pady=5)\n",
        "\n",
        "\n",
        "# Funciones\n",
        "def click_boton(valor):\n",
        "    global i\n",
        "    entrada_de_texto.insert(i, valor)\n",
        "    i += 1\n",
        "\n",
        "\n",
        "def borrar():\n",
        "    entrada_de_texto.delete(0, END)\n",
        "    i = 0\n",
        "\n",
        "\n",
        "def resolucion_op():\n",
        "    ecuacion = entrada_de_texto.get()\n",
        "    resultado = eval(ecuacion)\n",
        "    entrada_de_texto.delete(0, END)\n",
        "    entrada_de_texto.insert(0, resultado)\n",
        "    i = 0\n",
        "\n",
        "\n",
        "# Botones numéricos\n",
        "boton1 = Button(ventana, text=\"1\", width=5, height=2, command=lambda: click_boton(1))\n",
        "boton2 = Button(ventana, text=\"2\", width=5, height=2, command=lambda: click_boton(2))\n",
        "boton3 = Button(ventana, text=\"3\", width=5, height=2, command=lambda: click_boton(3))\n",
        "boton4 = Button(ventana, text=\"4\", width=5, height=2, command=lambda: click_boton(4))\n",
        "boton5 = Button(ventana, text=\"5\", width=5, height=2, command=lambda: click_boton(5))\n",
        "boton6 = Button(ventana, text=\"6\", width=5, height=2, command=lambda: click_boton(6))\n",
        "boton7 = Button(ventana, text=\"7\", width=5, height=2, command=lambda: click_boton(7))\n",
        "boton8 = Button(ventana, text=\"8\", width=5, height=2, command=lambda: click_boton(8))\n",
        "boton9 = Button(ventana, text=\"9\", width=5, height=2, command=lambda: click_boton(9))\n",
        "boton0 = Button(ventana, text=\"0\", width=13, height=2, command=lambda: click_boton(0))\n",
        "\n",
        "# Botones (Funciones aritméticas y demás\n",
        "boton_ac = Button(ventana, text=\"AC\", width=5, height=2, command=lambda: borrar())\n",
        "boton_parentesis1 = Button(ventana, text=\"(\", width=5, height=2, command=lambda: click_boton(\"(\"))\n",
        "boton_parentesis2 = Button(ventana, text=\")\", width=5, height=2, command=lambda: click_boton(\")\"))\n",
        "boton_punto = Button(ventana, text=\".\", width=5, height=2, command=lambda: click_boton(\".\"))\n",
        "\n",
        "boton_sum = Button(ventana, text=\"+\", width=5, height=2, command=lambda: click_boton(\"+\"))\n",
        "boton_res = Button(ventana, text=\"-\", width=5, height=2, command=lambda: click_boton(\"-\"))\n",
        "boton_mult = Button(ventana, text=\"*\", width=5, height=2, command=lambda: click_boton(\"*\"))\n",
        "boton_div = Button(ventana, text=\"/\", width=5, height=2, command=lambda: click_boton(\"/\"))\n",
        "boton_igual = Button(ventana, text=\"=\", width=5, height=2, command=lambda: resolucion_op())\n",
        "\n",
        "# Posicionar botones en interfaz\n",
        "boton_ac.grid(row=1, column=0, padx=5, pady=5, )\n",
        "boton_parentesis1.grid(row=1, column=1, padx=5, pady=5, )\n",
        "boton_parentesis2.grid(row=1, column=2, padx=5, pady=5, )\n",
        "boton_div.grid(row=1, column=3, padx=5, pady=5, )\n",
        "\n",
        "boton1.grid(row=2, column=0, padx=5, pady=5, )\n",
        "boton2.grid(row=2, column=1, padx=5, pady=5, )\n",
        "boton3.grid(row=2, column=2, padx=5, pady=5, )\n",
        "boton_mult.grid(row=2, column=3, padx=5, pady=5, )\n",
        "\n",
        "boton4.grid(row=3, column=0, padx=5, pady=5, )\n",
        "boton5.grid(row=3, column=1, padx=5, pady=5, )\n",
        "boton6.grid(row=3, column=2, padx=5, pady=5, )\n",
        "boton_sum.grid(row=3, column=3, padx=5, pady=5, )\n",
        "\n",
        "boton7.grid(row=4, column=0, padx=5, pady=5, )\n",
        "boton8.grid(row=4, column=1, padx=5, pady=5, )\n",
        "boton9.grid(row=4, column=2, padx=5, pady=5, )\n",
        "boton_res.grid(row=4, column=3, padx=5, pady=5, )\n",
        "\n",
        "boton0.grid(row=5, column=0, columnspan=2, padx=5, pady=5, )\n",
        "boton_punto.grid(row=5, column=2, padx=5, pady=5, )\n",
        "boton_igual.grid(row=5, column=3, padx=5, pady=5, )\n",
        "\n",
        "ventana.mainloop()\n"
      ]
    }
  ]
}